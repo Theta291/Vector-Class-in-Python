{
 "cells": [
  {
   "cell_type": "markdown",
   "metadata": {},
   "source": [
    "# Creating A Vector Class In Python"
   ]
  },
  {
   "cell_type": "markdown",
   "metadata": {},
   "source": [
    "## Prerequisites\n",
    "\n",
    "To understand this notebook, you need to know what a vector is."
   ]
  },
  {
   "cell_type": "markdown",
   "metadata": {},
   "source": [
    "## What makes a vector a vector?\n",
    "\n",
    "There are two aspects to a vector: its structure and how it interacts with other vectors. If we address both these aspects in our code, then we will have contructed a vector. Let's start with a blank class, and we'll fill in the methods as we go along. We will create our vector as an extension of the list class, because of many similarities between the structure of the two. We will explore the differences and implement them."
   ]
  },
  {
   "cell_type": "code",
   "execution_count": 2,
   "metadata": {},
   "outputs": [],
   "source": [
    "class Vector(list):\n",
    "    #We're going to put all the methods here.\n",
    "    pass"
   ]
  },
  {
   "cell_type": "markdown",
   "metadata": {},
   "source": [
    "As we go along, we will add methods to our vector class one by one, using setattr. That way we don't have to define all the methods at once and can really workshop our methods.\n",
    "\n",
    "setattr adds methods to classes like this:\n",
    "setattr(class to add to, method name, method)"
   ]
  },
  {
   "cell_type": "markdown",
   "metadata": {},
   "source": [
    "### Structure\n",
    "\n",
    "The structure of the elements of a vector is essentially a list. There, we create the vector class as an extension of the list class. This allows us to do the following things that are essential to the creating and changing vectors:\n",
    "\n",
    "1. create a vector (usually from an iterable)\n",
    "\n",
    "2. get and set elements of the vector\n",
    "\n",
    "3. append elements to the end of the vector\n",
    "\n",
    "4. insert elements into the vector\n",
    "\n",
    "5. remove elements from the vector\n",
    "\n",
    "6. get the length of the vector\n",
    "\n",
    "7. print the vector as a string\n",
    "\n",
    "8. get a string representation of the vector that we can evaluate\n",
    "\n",
    "However, the string representations of a list are different from the string representations of a vector. Therefore, we need to make our own method to get the string representations of a vector, both the one to print and the one we can evaluate.\n",
    "\n",
    "Additionally, unique to a vector, we need:\n",
    "\n",
    "9. a way to get the size of the vector."
   ]
  },
  {
   "cell_type": "markdown",
   "metadata": {},
   "source": [
    "#### String\n",
    "\n",
    "It is very useful to display our vector as a string. A vector is normally displayed as a comma-separated list of its element surrounded by angle brackets. For example, our test vector should look like this:\n",
    "\n",
    "$$<1, 3, 3, 4>$$\n",
    "\n",
    "How could we do this? Well, the string representation of a list is the same as this, but with square brackets instead of angle brackets. To start creating our vector string, we first get the string representation of the list we inherit from. To get this list, we use the list.\\_\\_repr\\_\\_."
   ]
  },
  {
   "cell_type": "code",
   "execution_count": 9,
   "metadata": {},
   "outputs": [],
   "source": [
    "def vector_str(self):\n",
    "    listStr = list.__repr__(self)"
   ]
  },
  {
   "cell_type": "markdown",
   "metadata": {},
   "source": [
    "To remove the angle brackets and keep the comma-separated list, we can use slicing."
   ]
  },
  {
   "cell_type": "code",
   "execution_count": 10,
   "metadata": {},
   "outputs": [],
   "source": [
    "def vector_str(self):\n",
    "    listStr = list.__repr__(self)[1:-1]"
   ]
  },
  {
   "cell_type": "markdown",
   "metadata": {},
   "source": [
    "The slicing removed the first and last characters in the list, which are the square brackets. Now we add the angle brackets:"
   ]
  },
  {
   "cell_type": "code",
   "execution_count": 11,
   "metadata": {},
   "outputs": [],
   "source": [
    "def vector_str(self):\n",
    "    commalist = list.__repr__(self)[1:-1]\n",
    "    return '<' + commalist + '>'"
   ]
  },
  {
   "cell_type": "markdown",
   "metadata": {},
   "source": [
    "We put the function we made into the built-in method \"\\_\\_str\\_\\_\" because that lets us use the \"str\"  and \"print\" functions."
   ]
  },
  {
   "cell_type": "code",
   "execution_count": 12,
   "metadata": {},
   "outputs": [],
   "source": [
    "setattr(Vector, '__str__', vector_str)"
   ]
  },
  {
   "cell_type": "markdown",
   "metadata": {},
   "source": [
    "Lets also create a test vector to test our methods on."
   ]
  },
  {
   "cell_type": "code",
   "execution_count": 13,
   "metadata": {},
   "outputs": [],
   "source": [
    "test_vector = Vector((1, 3, 3, 4))"
   ]
  },
  {
   "cell_type": "code",
   "execution_count": 14,
   "metadata": {},
   "outputs": [
    {
     "data": {
      "text/plain": [
       "'<1, 3, 3, 4>'"
      ]
     },
     "execution_count": 14,
     "metadata": {},
     "output_type": "execute_result"
    }
   ],
   "source": [
    "#Testing string casting.\n",
    "str(test_vector)"
   ]
  },
  {
   "cell_type": "markdown",
   "metadata": {},
   "source": [
    "#### Get a string representation of the vector that we can evaluate.\n",
    "\n",
    "This one is important, especially when we try to look at vectors as the output of a notebook cell. Let's see how these cells output our vectors."
   ]
  },
  {
   "cell_type": "code",
   "execution_count": null,
   "metadata": {},
   "outputs": [],
   "source": [
    "testVector"
   ]
  },
  {
   "cell_type": "markdown",
   "metadata": {},
   "source": [
    "Because we inherit from list, the cells use the list representation. Instead, we want it to show up as something that evaluates to the object it represents, like this:\n",
    "\n",
    "\"vector((1, 3, 3, 4))\"\n",
    "\n",
    "This will be similar to our string representation, but with \"vector\" before it and surrounded by two sets of parentheses. However, there are a few cases we have to consider. When we have a vector with one element, how should that be represented? If we simply take the commalist by removing the square brackets from the list string representation, what do we get? Let's see."
   ]
  },
  {
   "cell_type": "code",
   "execution_count": null,
   "metadata": {},
   "outputs": [],
   "source": [
    "def vectorRepr(self):\n",
    "    commalist = str(self)[1:-1]\n",
    "    return 'vector((' + commalist + '))'\n",
    "\n",
    "vectorRepr(vector([1]))"
   ]
  },
  {
   "cell_type": "markdown",
   "metadata": {},
   "source": [
    "But does this evaluate to a vector with one element? What do we really get?"
   ]
  },
  {
   "cell_type": "code",
   "execution_count": null,
   "metadata": {},
   "outputs": [],
   "source": [
    "try:\n",
    "    vector((1))\n",
    "except Exception as inst:\n",
    "    print(inst)"
   ]
  },
  {
   "cell_type": "markdown",
   "metadata": {},
   "source": [
    "We get an error, because vector((1)) evaluates to vector(1), which isn't allowed because we need an iterable to construct a vector. Instead, we need a commalist with a comma after each element, so we get (1, ), which evaluates to a tuple. We can do this using the string .join method and a list comprehension."
   ]
  },
  {
   "cell_type": "code",
   "execution_count": null,
   "metadata": {},
   "outputs": [],
   "source": [
    "def vectorRepr(self):\n",
    "    commalist = ''.join([str(a) + ', ' for a in self])\n",
    "    return 'vector((' + commalist + '))'\n",
    "\n",
    "setattr(vector, '__repr__', vectorRepr)"
   ]
  },
  {
   "cell_type": "markdown",
   "metadata": {},
   "source": [
    "Lets try this out on the case that gave us trouble before: the case with one element in the vector."
   ]
  },
  {
   "cell_type": "code",
   "execution_count": null,
   "metadata": {},
   "outputs": [],
   "source": [
    "#Testing repr with single element vector\n",
    "vector([1])"
   ]
  },
  {
   "cell_type": "markdown",
   "metadata": {},
   "source": [
    "This looks like what we wanted. Let's try repr with single empty and multiple element vectors as well."
   ]
  },
  {
   "cell_type": "code",
   "execution_count": null,
   "metadata": {},
   "outputs": [],
   "source": [
    "#Testing repr with empty vector\n",
    "repr(vector())"
   ]
  },
  {
   "cell_type": "markdown",
   "metadata": {},
   "source": [
    "This may look a little weird, but it still evaluates to an empty vector, so it does what we want."
   ]
  },
  {
   "cell_type": "code",
   "execution_count": null,
   "metadata": {},
   "outputs": [],
   "source": [
    "#Testing repr with multiple element vector\n",
    "repr(vector((1, 2, 3)))"
   ]
  },
  {
   "cell_type": "markdown",
   "metadata": {},
   "source": [
    "#### Size\n",
    "\n",
    "We'll implement the size of the vector after implementing all the other methods, and I'll show you why."
   ]
  },
  {
   "cell_type": "markdown",
   "metadata": {},
   "source": [
    "### How vectors interact with other objects\n",
    "\n",
    "Vectors interact with other object in a few certain ways:\n",
    "\n",
    "1. You can compare two vectors to see if they are the same\n",
    "2. Vectors can be added together\n",
    "3. Vectors can be subtracted from each other\n",
    "4. You can get a dot product of two vectors\n",
    "5. You can multiply and divide vectors by numbers"
   ]
  },
  {
   "cell_type": "markdown",
   "metadata": {},
   "source": [
    "#### Comparing vectors\n",
    "\n",
    "We need to be able to see if two vectors are equal. When all the elements of two vectors are equal, those two vectors are equal. We can use the list.\\_\\_eq\\_\\_ method (== for lists) to check if this is true. However, before we can check the elements, we have to check to make sure both of the vectors are really vectors, since a vector cannot be equal to something that isn't a vector. Since we are making a method for our vector class, \"self\" will always be a vector, so we only have to check \"other\"."
   ]
  },
  {
   "cell_type": "code",
   "execution_count": null,
   "metadata": {},
   "outputs": [],
   "source": [
    "def vectorEquality(self, other):\n",
    "    if type(other) is vector:\n",
    "        #Put code here that checks that vectors have the same elements\n",
    "        None\n",
    "    else:\n",
    "        return False"
   ]
  },
  {
   "cell_type": "markdown",
   "metadata": {},
   "source": [
    "Now we can use list.\\_\\_eq\\_\\_ to compare self and other"
   ]
  },
  {
   "cell_type": "code",
   "execution_count": null,
   "metadata": {},
   "outputs": [],
   "source": [
    "def vectorEquality(self, other):\n",
    "    if type(other) is vector:\n",
    "        return list.__eq__(self, other)\n",
    "    else:\n",
    "        return False\n",
    "    \n",
    "setattr(vector, '__eq__', vectorEquality)"
   ]
  },
  {
   "cell_type": "markdown",
   "metadata": {},
   "source": [
    "We set our new function to the \"\\_\\_eq\\_\\_\" method because that lets us use the equality operator (==). Let's make a copy of testVector to try out our new method."
   ]
  },
  {
   "cell_type": "code",
   "execution_count": null,
   "metadata": {},
   "outputs": [],
   "source": [
    "testVectorCopy = vector(testVector)\n",
    "\n",
    "#Testing equality checker.\n",
    "testVectorCopy == testVector"
   ]
  },
  {
   "cell_type": "markdown",
   "metadata": {},
   "source": [
    "Additionally, people will use the \"!=\" operator to check if two vectors are not the same. To define this operator, we have to define the \"\\_\\_ne\\_\\_\" method. a != b is the same as not(a == b), so \\_\\_ne\\_\\_(self, other) == not \\_\\_eq\\_\\_(self, other)."
   ]
  },
  {
   "cell_type": "code",
   "execution_count": null,
   "metadata": {},
   "outputs": [],
   "source": [
    "def vectorNotEqual(self, other):\n",
    "    return not (self == other)\n",
    "\n",
    "setattr(vector, '__ne__', vectorNotEqual)"
   ]
  },
  {
   "cell_type": "markdown",
   "metadata": {},
   "source": [
    "Let's test our inequality method."
   ]
  },
  {
   "cell_type": "code",
   "execution_count": null,
   "metadata": {},
   "outputs": [],
   "source": [
    "testVectorCopy != testVector"
   ]
  },
  {
   "cell_type": "markdown",
   "metadata": {},
   "source": [
    "#### Addition\n",
    "\n",
    "Before we can add the vectors together, we need to make sure they are the same length:"
   ]
  },
  {
   "cell_type": "code",
   "execution_count": null,
   "metadata": {},
   "outputs": [],
   "source": [
    "def vectorAddition(self, other):\n",
    "    if len(self) == len(other):\n",
    "        #Put code for vector addition here\n",
    "        None"
   ]
  },
  {
   "cell_type": "markdown",
   "metadata": {},
   "source": [
    "Vector addition is element-wise. The first elements of each vector are added to get the first element of the resulting vector. Same for the second elements, third, etc. To pair up each of the elements, we can zip the two vectors together. Here is what that does:"
   ]
  },
  {
   "cell_type": "code",
   "execution_count": null,
   "metadata": {},
   "outputs": [],
   "source": [
    "testVector2 = vector((1, 2, 3, 4))\n",
    "\n",
    "zipped = zip(testVector, testVector2)\n",
    "list(zipped)"
   ]
  },
  {
   "cell_type": "markdown",
   "metadata": {},
   "source": [
    "Now we have a list of tuples. To get the sum of each tuple, we can do a list comprehension, like this:"
   ]
  },
  {
   "cell_type": "code",
   "execution_count": null,
   "metadata": {},
   "outputs": [],
   "source": [
    "zipped = zip(testVector, testVector2)\n",
    "[a + b for a, b in zipped]"
   ]
  },
  {
   "cell_type": "markdown",
   "metadata": {},
   "source": [
    "We can combine the list comprehension and the zip into one line and put it in our function:"
   ]
  },
  {
   "cell_type": "code",
   "execution_count": null,
   "metadata": {},
   "outputs": [],
   "source": [
    "def vectorAddition(self, other):\n",
    "    if len(self) == len(other):\n",
    "        sums = [a + b for a, b in zip(self, other)]"
   ]
  },
  {
   "cell_type": "markdown",
   "metadata": {},
   "source": [
    "What we need to do now is use this list to create a vector, then return that vector. We have already made a constructor that can turn lists into vectors."
   ]
  },
  {
   "cell_type": "code",
   "execution_count": null,
   "metadata": {},
   "outputs": [],
   "source": [
    "def vectorAddition(self, other):\n",
    "    if len(self) == len(other):\n",
    "        return vector([a + b for a, b in zip(self, other)])"
   ]
  },
  {
   "cell_type": "markdown",
   "metadata": {},
   "source": [
    "Finally, we have to handle the case where the vectors aren't the same length. This can be interpretted as an index error, because the vectors have a different number of indeces."
   ]
  },
  {
   "cell_type": "code",
   "execution_count": null,
   "metadata": {},
   "outputs": [],
   "source": [
    "def vectorAddition(self, other):\n",
    "    if len(self) == len(other):\n",
    "        return vector([a + b for a, b in zip(self, other)])\n",
    "    else:\n",
    "        raise IndexError('Vectors need to be the same length')\n",
    "        \n",
    "setattr(vector, '__add__', vectorAddition)"
   ]
  },
  {
   "cell_type": "markdown",
   "metadata": {},
   "source": [
    "We put the function we made into the built-in method \"\\_\\_add\\_\\_\" because that lets us use the plus sign to add vectors. Now let's try it out."
   ]
  },
  {
   "cell_type": "code",
   "execution_count": null,
   "metadata": {},
   "outputs": [],
   "source": [
    "#Testing vector addition with two vectors.\n",
    "testVector + testVector2"
   ]
  },
  {
   "cell_type": "markdown",
   "metadata": {},
   "source": [
    "One great thing about this function is that because we didn't check to make sure we are adding two vectors together, we can add a vector to a list or any other iterable and get a vector result."
   ]
  },
  {
   "cell_type": "code",
   "execution_count": null,
   "metadata": {},
   "outputs": [],
   "source": [
    "#Testing adding a list to a vector.\n",
    "testVector + [1, 2, 3, 4]"
   ]
  },
  {
   "cell_type": "markdown",
   "metadata": {},
   "source": [
    "However, this cannot be done the other way."
   ]
  },
  {
   "cell_type": "code",
   "execution_count": null,
   "metadata": {},
   "outputs": [],
   "source": [
    "[1, 2, 3, 4] + testVector"
   ]
  },
  {
   "cell_type": "markdown",
   "metadata": {},
   "source": [
    "This is because Python is trying to do \"\\[1, 2, 3, 4\\].\\_\\_add\\_\\_(testVector)\". Because the list class only supports list addition, we have to override that addition somehow.\n",
    "\n",
    "How do we fix this? We can't change the .\\_\\_add\\_\\_ method of list. Well, there is something that goes on under the hood when you try to add a + b in Python that we can use to solve this problem. Python first tries a.\\_\\_add\\_\\_(b). If that fails or if we override it, Python tries b.\\_\\_radd\\_\\_(a). This means that if we define the \\_\\_radd\\_\\_ method of our vector class, we can add lists to vectors in any order we want and get vector addition. Since the order of vector addition doesn't matter, the \\_\\_radd\\_\\_ method is the same as the \\_\\_add\\_\\_ method:"
   ]
  },
  {
   "cell_type": "code",
   "execution_count": null,
   "metadata": {},
   "outputs": [],
   "source": [
    "setattr(vector, '__radd__', vectorAddition)"
   ]
  },
  {
   "cell_type": "markdown",
   "metadata": {},
   "source": [
    "Now we can add lists to vectors."
   ]
  },
  {
   "cell_type": "code",
   "execution_count": null,
   "metadata": {},
   "outputs": [],
   "source": [
    "#Testing adding a vector to a list.\n",
    "print([1, 2, 3, 4] + testVector)"
   ]
  },
  {
   "cell_type": "markdown",
   "metadata": {},
   "source": [
    "#### Subtraction\n",
    "\n",
    "Now that we have defined addition, we can use that to make a subtraction function. However, before we can do that, we have to have a function to get the negative of a vector, because subtraction is adding the negative."
   ]
  },
  {
   "cell_type": "code",
   "execution_count": null,
   "metadata": {},
   "outputs": [],
   "source": [
    "def vectorNeg(self):\n",
    "    #Put code for negation function here\n",
    "    None"
   ]
  },
  {
   "cell_type": "markdown",
   "metadata": {},
   "source": [
    "To get the negative of a vector, we negate each element using a list comprehension, cast that list as a vector, then return that vector."
   ]
  },
  {
   "cell_type": "code",
   "execution_count": null,
   "metadata": {},
   "outputs": [],
   "source": [
    "def vectorNeg(self):\n",
    "    return vector([-a for a in self])\n",
    "\n",
    "setattr(vector, '__neg__', vectorNeg)"
   ]
  },
  {
   "cell_type": "markdown",
   "metadata": {},
   "source": [
    "Now we can use this to make our subtraction function."
   ]
  },
  {
   "cell_type": "code",
   "execution_count": null,
   "metadata": {},
   "outputs": [],
   "source": [
    "def vectorSubtract(self, other):\n",
    "    #Put code for vector subtraction here\n",
    "    None"
   ]
  },
  {
   "cell_type": "markdown",
   "metadata": {},
   "source": [
    "The most obvious way to do this is to return self + -other, but let's see what happens when we do this."
   ]
  },
  {
   "cell_type": "code",
   "execution_count": null,
   "metadata": {},
   "outputs": [],
   "source": [
    "def vectorSubtract(self, other):\n",
    "    return self + -other\n",
    "\n",
    "vectorSubtract(testVector, testVector2)"
   ]
  },
  {
   "cell_type": "markdown",
   "metadata": {},
   "source": [
    "This works perfectly. It even checks to make sure the vectors are the same length because it uses vector addition, and vector addition checks to make sure the vectors are of the same length. So what's the problem? Let's see what happens if we try to subtract a list:"
   ]
  },
  {
   "cell_type": "code",
   "execution_count": null,
   "metadata": {},
   "outputs": [],
   "source": [
    "try:\n",
    "    print(vectorSubtract(testVector, [1, 2, 3, 4]))\n",
    "except Exception as inst:\n",
    "    print(inst)"
   ]
  },
  {
   "cell_type": "markdown",
   "metadata": {},
   "source": [
    "We can't do it! This is because list is passed into the vectorSubtract function as \"other\", and we try to take the negative of \"other\". Because lists don't have a negative, we can't take the negative of them.\n",
    "\n",
    "How can we avoid this? Well, with a little bit of algebra, you can see that self + -other = -(-self + other). It we plug in a list for other, this expression takes the negative of self, which is a vector, then adds to a list, which is allowed because we can add vectors to list to get vectors. It then takes the negative of the resulting vector. This way, we can subtract lists from vectors."
   ]
  },
  {
   "cell_type": "code",
   "execution_count": null,
   "metadata": {},
   "outputs": [],
   "source": [
    "def vectorSubtract(self, other):\n",
    "    return -(-self + other)\n",
    "\n",
    "vectorSubtract(testVector, [1, 2, 3, 4])"
   ]
  },
  {
   "cell_type": "markdown",
   "metadata": {},
   "source": [
    "This works! Now we can add this to our class as the '\\_\\_sub\\_\\_' method, which lets us use the minus sign."
   ]
  },
  {
   "cell_type": "code",
   "execution_count": null,
   "metadata": {},
   "outputs": [],
   "source": [
    "setattr(vector, '__sub__', vectorSubtract)"
   ]
  },
  {
   "cell_type": "markdown",
   "metadata": {},
   "source": [
    "We already tried it out with a list, so let's try it out with vectors."
   ]
  },
  {
   "cell_type": "code",
   "execution_count": null,
   "metadata": {},
   "outputs": [],
   "source": [
    "#Testing subtracting one vector from another.\n",
    "testVector - testVector2"
   ]
  },
  {
   "cell_type": "markdown",
   "metadata": {},
   "source": [
    "However, just like with vector addition, we cannot subtract vectors from lists unless we define \"\\_\\_rsub\\_\\_\" for vectors. This time, we need to be more careful of the order. vector1.\\_\\_rsub\\_\\_(list1) actually means list1-vector1, so our code has to reflect that."
   ]
  },
  {
   "cell_type": "code",
   "execution_count": null,
   "metadata": {},
   "outputs": [],
   "source": [
    "def vectorRSub(self, other):\n",
    "    return -self + other\n",
    "\n",
    "setattr(vector, '__rsub__', vectorRSub)"
   ]
  },
  {
   "cell_type": "markdown",
   "metadata": {},
   "source": [
    "Now we can subtract vectors from lists."
   ]
  },
  {
   "cell_type": "code",
   "execution_count": null,
   "metadata": {},
   "outputs": [],
   "source": [
    "#Testing subtracting a vector from a list.\n",
    "[1, 2, 3, 4] - testVector"
   ]
  },
  {
   "cell_type": "markdown",
   "metadata": {},
   "source": [
    "#### Dot product\n",
    "\n",
    "The dot product is when you take the product of each pair of elements from two vectors, then sum them together. We can once again use zip and a list comprehension to get the products of each pair of elements from the two vectors."
   ]
  },
  {
   "cell_type": "code",
   "execution_count": null,
   "metadata": {},
   "outputs": [],
   "source": [
    "def vectorDot(self, other):\n",
    "    [a * b for a, b in zip(self, other)]"
   ]
  },
  {
   "cell_type": "markdown",
   "metadata": {},
   "source": [
    "Then we return the sum of that list."
   ]
  },
  {
   "cell_type": "code",
   "execution_count": null,
   "metadata": {},
   "outputs": [],
   "source": [
    "def vectorDot(self, other):\n",
    "    return sum([a * b for a, b in zip(self, other)])"
   ]
  },
  {
   "cell_type": "markdown",
   "metadata": {},
   "source": [
    "However, dot products need to use vectors of the same length, so we need to check to make sure we have two arguments of the same length. We'll do this using the same if statement from the vector addition function."
   ]
  },
  {
   "cell_type": "code",
   "execution_count": null,
   "metadata": {},
   "outputs": [],
   "source": [
    "def vectorDot(self, other):\n",
    "    if len(self) == len(other):\n",
    "        return sum([a * b for a, b in zip(self, other)])\n",
    "    else:\n",
    "        raise IndexError('Vectors need to be the same length')"
   ]
  },
  {
   "cell_type": "markdown",
   "metadata": {},
   "source": [
    "Dot products use the asterisk (\\*), so which is also the multiplication operator, so we set this function as the \"\\_\\_mul\\_\\_\" method of our vector class so we can use the multiplication operator."
   ]
  },
  {
   "cell_type": "code",
   "execution_count": null,
   "metadata": {},
   "outputs": [],
   "source": [
    "setattr(vector, '__mul__', vectorDot)"
   ]
  },
  {
   "cell_type": "markdown",
   "metadata": {},
   "source": [
    "Once again, this function allows us to multiply vectors and lists as long as we put the vector first. To enable us to do it the other way, we have to define \"\\_\\_rmul\\_\\_\" for our vector class. Since the order of the dot product doesn't matter, we can use vectorDot for \\_\\_rmul\\_\\_."
   ]
  },
  {
   "cell_type": "code",
   "execution_count": null,
   "metadata": {},
   "outputs": [],
   "source": [
    "setattr(vector, '__rmul__', vectorDot)"
   ]
  },
  {
   "cell_type": "markdown",
   "metadata": {},
   "source": [
    "Now let's try it out."
   ]
  },
  {
   "cell_type": "code",
   "execution_count": null,
   "metadata": {},
   "outputs": [],
   "source": [
    "#Testing dot product of two vectors.\n",
    "testVector * testVector2"
   ]
  },
  {
   "cell_type": "code",
   "execution_count": null,
   "metadata": {},
   "outputs": [],
   "source": [
    "#Testing dot product of a vector and a list.\n",
    "testVector * [1, 2, 3, 4]"
   ]
  },
  {
   "cell_type": "code",
   "execution_count": null,
   "metadata": {},
   "outputs": [],
   "source": [
    "#Testing dot product of a list and a vector.\n",
    "[1, 2, 3, 4] * testVector"
   ]
  },
  {
   "cell_type": "markdown",
   "metadata": {},
   "source": [
    "#### Scalar multiplication and division\n",
    "\n",
    "Vectors can be multiplied by numbers. This type of multiplication is called scalar multiplication. When you multiply a vector by a number, every element of the vector is multiplied by that number.\n",
    "\n",
    "The tricky thing here is that both dot product and scalar multiplication use the \"\\*\" operator. Therefore, they need to be two cases of same function. The most pythonic way to do this is to try dot product first, and if what we are multiplying the vector by happens to not be an iterable, then we do scalar multiplication instead."
   ]
  },
  {
   "cell_type": "code",
   "execution_count": null,
   "metadata": {},
   "outputs": [],
   "source": [
    "def vectorMul(self, other):\n",
    "    try:\n",
    "        if len(self) == len(other):\n",
    "            return sum([a * b for a, b in zip(self, other)])\n",
    "        else:\n",
    "            raise IndexError('Vectors need to be the same length')\n",
    "    except:\n",
    "        #Put code for scalar multiplication here\n",
    "        None"
   ]
  },
  {
   "cell_type": "markdown",
   "metadata": {},
   "source": [
    "Now we can make our scalar multiplication code. We have to multiply every element of the vector by our number. We can do this using a list comprehension, then cast that list as a vector and return it."
   ]
  },
  {
   "cell_type": "code",
   "execution_count": null,
   "metadata": {},
   "outputs": [],
   "source": [
    "def vectorMul(self, other):\n",
    "    try:\n",
    "        if len(self) == len(other):\n",
    "            return sum([a * b for a, b in zip(self, other)])\n",
    "        else:\n",
    "            raise IndexError('Vectors need to be the same length')\n",
    "    except:\n",
    "        return vector([a * other for a in self])\n",
    "    \n",
    "setattr(vector, '__mul__', vectorMul)"
   ]
  },
  {
   "cell_type": "markdown",
   "metadata": {},
   "source": [
    "We also have to redefine \"\\_\\_rmul\\_\\_\", so we can multiply numbers and vectors together by doing number * vector."
   ]
  },
  {
   "cell_type": "code",
   "execution_count": null,
   "metadata": {},
   "outputs": [],
   "source": [
    "setattr(vector, '__rmul__', vectorMul)"
   ]
  },
  {
   "cell_type": "markdown",
   "metadata": {},
   "source": [
    "Let's try it out."
   ]
  },
  {
   "cell_type": "code",
   "execution_count": null,
   "metadata": {
    "scrolled": true
   },
   "outputs": [],
   "source": [
    "#Testing multiplying a vector and a number.\n",
    "testVector * 2"
   ]
  },
  {
   "cell_type": "code",
   "execution_count": null,
   "metadata": {},
   "outputs": [],
   "source": [
    "#Testing multiplying a number and a vector.\n",
    "2 * testVector"
   ]
  },
  {
   "cell_type": "markdown",
   "metadata": {},
   "source": [
    "#### Scalar division\n",
    "\n",
    "Scalar division is when we divide our vector by a number. We implement this the same way as scalar multiplication."
   ]
  },
  {
   "cell_type": "code",
   "execution_count": null,
   "metadata": {},
   "outputs": [],
   "source": [
    "def vectorDivision(self, other):\n",
    "    return vector([a / other for a in self])\n",
    "\n",
    "setattr(vector, '__truediv__', vectorDivision)"
   ]
  },
  {
   "cell_type": "markdown",
   "metadata": {},
   "source": [
    "We set our function to the \"\\_\\_truediv\\_\\_\" method because that lets us use the division operator (\\\\).\n",
    "\n",
    "We don't have to define \"\\_\\_rtruediv\\_\\_\", because we're not going to try to divide a number by a vector.\n",
    "\n",
    "Let's test our new division method."
   ]
  },
  {
   "cell_type": "code",
   "execution_count": null,
   "metadata": {
    "scrolled": true
   },
   "outputs": [],
   "source": [
    "#Testing dividing a vector by a number.\n",
    "testVector / 2"
   ]
  },
  {
   "cell_type": "markdown",
   "metadata": {},
   "source": [
    "### Vector Size\n",
    "\n",
    "This property of vector has to do with their structure. However, I like to implement this after the dot product, because we can use the dot product to make an easy definition for the size of a vector.\n",
    "\n",
    "To get the size of a vector, we square each of its elements, then sum them together. Then we take the square root of that sum. Squaring each element of a vector, then taking the sum of those squares is the same as taking the dot product of the vector with itself. In other words, the size of a vector is the same as the square root of the dot product of the vector with itself."
   ]
  },
  {
   "cell_type": "code",
   "execution_count": null,
   "metadata": {},
   "outputs": [],
   "source": [
    "def vectorSize(self):\n",
    "    return (self * self) ** 0.5"
   ]
  },
  {
   "cell_type": "markdown",
   "metadata": {},
   "source": [
    "(Taking anything to the 0.5 power is the same as taking a square root.)\n",
    "\n",
    "Usually the magnitude of a vector is represented using the absolute value symbols (|), so I'll make sure we can use the built-in function \"abs\" to find the size of the vector. To do this, we have to assign our size function to the \"\\_\\_abs\\_\\_\" method of our vector class."
   ]
  },
  {
   "cell_type": "code",
   "execution_count": null,
   "metadata": {},
   "outputs": [],
   "source": [
    "setattr(vector, '__abs__', vectorSize)"
   ]
  },
  {
   "cell_type": "markdown",
   "metadata": {},
   "source": [
    "Let's try it out."
   ]
  },
  {
   "cell_type": "code",
   "execution_count": null,
   "metadata": {},
   "outputs": [],
   "source": [
    "#Testing our abs method.\n",
    "abs(testVector)"
   ]
  },
  {
   "cell_type": "markdown",
   "metadata": {},
   "source": [
    "## We have finished our vector class!\n",
    "\n",
    "I'll type the full definition below, and change some of the code to be more neat."
   ]
  },
  {
   "cell_type": "code",
   "execution_count": null,
   "metadata": {},
   "outputs": [],
   "source": [
    "class Vector(list):\n",
    "    def __str__(self):\n",
    "        commalist = super().__repr__()[1:-1]\n",
    "        return '<' + commalist + '>'\n",
    "    \n",
    "    def __repr__(self):\n",
    "        commalist = ''.join([str(a) + ', ' for a in self])\n",
    "        return f'{self.__class__.__name__}((' + commalist + '))'\n",
    "\n",
    "    def __add__(self, other):\n",
    "        if len(self) == len(other):\n",
    "            return self.__class__([a + b for a, b in zip(self, other)])\n",
    "        else:\n",
    "            raise IndexError('Vectors need to be the same length')\n",
    "            \n",
    "    __radd__ = __add__\n",
    "    \n",
    "    def __neg__(self):\n",
    "        return self.__class__([-a for a in self])\n",
    "    \n",
    "    def __sub__(self, other):\n",
    "        return -(-self + other)\n",
    "    \n",
    "    def __rsub__(self, other):\n",
    "        return -self + other\n",
    "    \n",
    "    def __mul__(self, other):\n",
    "        try:\n",
    "            if len(self) == len(other):\n",
    "                return sum([a * b for a, b in zip(self, other)])\n",
    "            else:\n",
    "                raise IndexError('Vectors need to be the same length')\n",
    "        except:\n",
    "            return self.__class__([a * other for a in self])\n",
    "        \n",
    "    __rmul__ = __mul__\n",
    "    \n",
    "    def __truediv__(self, other):\n",
    "        return self.__class__([a / other for a in self])\n",
    "    \n",
    "    def __eq__(self, other):\n",
    "        if type(other) is self.__class__:\n",
    "            return list.__eq__(self, other)\n",
    "        else:\n",
    "            return False\n",
    "        \n",
    "    def __ne__(self, other):\n",
    "        return not (self == other)\n",
    "            \n",
    "    def __abs__(self):\n",
    "        return (self * self) ** 0.5\n"
   ]
  },
  {
   "cell_type": "markdown",
   "metadata": {},
   "source": [
    "I'll also put all the test cases below."
   ]
  },
  {
   "cell_type": "code",
   "execution_count": null,
   "metadata": {},
   "outputs": [],
   "source": [
    "testVector = Vector((1, 3, 3, 4))\n",
    "testVectorCopy = Vector(testVector)"
   ]
  },
  {
   "cell_type": "code",
   "execution_count": null,
   "metadata": {},
   "outputs": [],
   "source": [
    "#Testing string.\n",
    "assert(str(testVector) == \"<1, 3, 3, 4>\")"
   ]
  },
  {
   "cell_type": "code",
   "execution_count": null,
   "metadata": {},
   "outputs": [],
   "source": [
    "#Testing repr.\n",
    "assert(repr(testVector) == 'Vector((1, 3, 3, 4, ))')"
   ]
  },
  {
   "cell_type": "code",
   "execution_count": null,
   "metadata": {},
   "outputs": [],
   "source": [
    "#Testing equality comparison.\n",
    "assert(testVector == Vector((1, 3, 3, 4)))"
   ]
  },
  {
   "cell_type": "code",
   "execution_count": null,
   "metadata": {},
   "outputs": [],
   "source": [
    "#Testing that a vector is not equal to a non-vector.\n",
    "assert(testVector != [1, 3, 3, 4])"
   ]
  },
  {
   "cell_type": "code",
   "execution_count": null,
   "metadata": {},
   "outputs": [],
   "source": [
    "#Testing that two vectors of different lengths are not equal.\n",
    "assert(testVector != Vector((1, 3, 3, 4, 5)))"
   ]
  },
  {
   "cell_type": "code",
   "execution_count": null,
   "metadata": {},
   "outputs": [],
   "source": [
    "#Testing that two unequal vectors are unequal.\n",
    "assert(testVector != Vector(range(1, 5)))"
   ]
  },
  {
   "cell_type": "code",
   "execution_count": null,
   "metadata": {},
   "outputs": [],
   "source": [
    "testVector2 = Vector(range(1, 5))\n",
    "\n",
    "#Testing addition of two vectors.\n",
    "assert(testVector + testVector2 == Vector((2, 5, 6, 8)))"
   ]
  },
  {
   "cell_type": "code",
   "execution_count": null,
   "metadata": {},
   "outputs": [],
   "source": [
    "#Testing addition of an iterable to a vector.\n",
    "assert(testVector + range(1, 5) == Vector((2, 5, 6, 8)))"
   ]
  },
  {
   "cell_type": "code",
   "execution_count": null,
   "metadata": {},
   "outputs": [],
   "source": [
    "#Testing addition of a vector to an iterable.\n",
    "assert(range(1, 5) + testVector == Vector((2, 5, 6, 8)))"
   ]
  },
  {
   "cell_type": "code",
   "execution_count": null,
   "metadata": {},
   "outputs": [],
   "source": [
    "#Testing error raised by addition of vectors of different lengths.\n",
    "try:\n",
    "    Vector() + Vector((1,))\n",
    "except Exception as inst:\n",
    "    assert(type(inst) is IndexError)"
   ]
  },
  {
   "cell_type": "code",
   "execution_count": null,
   "metadata": {},
   "outputs": [],
   "source": [
    "#Testing subtraction of a vector from a vector.\n",
    "assert(testVector - testVector2 == Vector((0, 1, 0, 0)))"
   ]
  },
  {
   "cell_type": "code",
   "execution_count": null,
   "metadata": {},
   "outputs": [],
   "source": [
    "#Testing subtraction of an iterable from a vector.\n",
    "assert(testVector - range(1, 5) == Vector((0, 1, 0, 0)))"
   ]
  },
  {
   "cell_type": "code",
   "execution_count": null,
   "metadata": {},
   "outputs": [],
   "source": [
    "#Testing subtraction of a vector from an iterable.\n",
    "assert(range(1, 5) - testVector == Vector((0, -1, 0, 0)))"
   ]
  },
  {
   "cell_type": "code",
   "execution_count": null,
   "metadata": {},
   "outputs": [],
   "source": [
    "#Testing vector dot products.\n",
    "assert(testVector * testVector2 == 32)"
   ]
  },
  {
   "cell_type": "code",
   "execution_count": null,
   "metadata": {},
   "outputs": [],
   "source": [
    "#Testing dot product of vector and iterable.\n",
    "assert(testVector * range(1, 5) == 32)"
   ]
  },
  {
   "cell_type": "code",
   "execution_count": null,
   "metadata": {},
   "outputs": [],
   "source": [
    "#Testing dot product of iterable and vector.\n",
    "assert(range(1, 5) * testVector == 32)"
   ]
  },
  {
   "cell_type": "code",
   "execution_count": null,
   "metadata": {},
   "outputs": [],
   "source": [
    "#Testing error raised by dot product of vectors of different lengths.\n",
    "try:\n",
    "    Vector() * Vector((1,))\n",
    "except Exception as inst:\n",
    "    assert(type(inst) is IndexError)"
   ]
  },
  {
   "cell_type": "code",
   "execution_count": null,
   "metadata": {},
   "outputs": [],
   "source": [
    "#Testing multiplication of vector and number.\n",
    "assert(testVector * 2 == Vector((2, 6, 6, 8)))"
   ]
  },
  {
   "cell_type": "code",
   "execution_count": null,
   "metadata": {},
   "outputs": [],
   "source": [
    "#Testing multiplication of number and vector.\n",
    "assert(2 * testVector == Vector((2, 6, 6, 8)))"
   ]
  },
  {
   "cell_type": "code",
   "execution_count": null,
   "metadata": {},
   "outputs": [],
   "source": [
    "#Testing division of vector by number.\n",
    "assert(testVector / 2 == Vector((0.5, 1.5, 1.5, 2)))"
   ]
  },
  {
   "cell_type": "code",
   "execution_count": null,
   "metadata": {},
   "outputs": [],
   "source": [
    "#Testing vector size.\n",
    "assert(abs(abs(Vector((3, 4))) - 5) < 0.001)"
   ]
  },
  {
   "cell_type": "markdown",
   "metadata": {},
   "source": [
    "todo:\n",
    "* add equality (DONE)\n",
    "* add scalar multiplication (DONE)\n",
    "* add scalar division (DONE)\n",
    "* Remove lambdas from code we're making (DONE)\n",
    "* Replace Nones with comments (DONE)\n",
    "* Put comments above each test case (DONE)\n",
    "* Put all the test cases at the bottom. (DONE)\n",
    "* Split cells with different headings. (DONE)\n",
    "* Split test cases at bottom. (DONE)\n",
    "* Add test cases for errors. (DONE)\n",
    "* Test and proofread everything. (DONE)\n",
    "* Draft 1 complete! (DONE)\n",
    "\n",
    "\n",
    "* implement vector as extension of list (DONE)\n",
    "* rewrite notebook to reflect vector as extension of list (DONE)\n",
    "* fix problem with super() when creating the str method (DONE)\n",
    "* change eq to use list eq (DONE)\n",
    "* Draft 2 complete! (DONE)\n",
    "\n",
    "* replace lambdas with declarations (DONE)\n",
    "* proofread document\n",
    "* add docstrings"
   ]
  },
  {
   "cell_type": "code",
   "execution_count": null,
   "metadata": {},
   "outputs": [],
   "source": []
  }
 ],
 "metadata": {
  "kernelspec": {
   "display_name": "Python 3 (ipykernel)",
   "language": "python",
   "name": "python3"
  },
  "language_info": {
   "codemirror_mode": {
    "name": "ipython",
    "version": 3
   },
   "file_extension": ".py",
   "mimetype": "text/x-python",
   "name": "python",
   "nbconvert_exporter": "python",
   "pygments_lexer": "ipython3",
   "version": "3.7.12"
  }
 },
 "nbformat": 4,
 "nbformat_minor": 4
}
