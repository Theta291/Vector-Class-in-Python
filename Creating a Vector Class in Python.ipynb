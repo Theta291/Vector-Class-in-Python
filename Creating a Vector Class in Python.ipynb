{
 "cells": [
  {
   "cell_type": "markdown",
   "metadata": {},
   "source": [
    "# Creating A Vector Class In Python"
   ]
  },
  {
   "cell_type": "markdown",
   "metadata": {},
   "source": [
    "## Prerequisites\n",
    "\n",
    "To understand this notebook, you need to know what a vector is."
   ]
  },
  {
   "cell_type": "markdown",
   "metadata": {},
   "source": [
    "## What makes a vector a vector?\n",
    "\n",
    "There are two aspects to a vector: its structure and how it interacts with other vectors. If we address both these aspects in our code, then we will have contructed a vector. Let's start with a blank class, and we'll fill in the methods as we go along:"
   ]
  },
  {
   "cell_type": "code",
   "execution_count": null,
   "metadata": {},
   "outputs": [],
   "source": [
    "class vector:\n",
    "    #We're going to put all the methods here.\n",
    "    None"
   ]
  },
  {
   "cell_type": "markdown",
   "metadata": {},
   "source": [
    "As we go along, we will add methods to our vector class one by one, using setattr. That way we don't have to define all the methods at once and can really workshop our methods.\n",
    "\n",
    "setattr adds methods to classes like this:\n",
    "setattr(class to add to, method name, method)"
   ]
  },
  {
   "cell_type": "markdown",
   "metadata": {},
   "source": [
    "### Structure\n",
    "\n",
    "A vector is essentially a list. Like a list, there needs to be:\n",
    "\n",
    "1. a way to create a vector (usually from an iterable)\n",
    "\n",
    "2. ways to get and set elements of the vector\n",
    "\n",
    "3. a way to append elements to the end of the vector\n",
    "\n",
    "4. a way to insert elements into the vector\n",
    "\n",
    "5. a way to remove elements from the vector\n",
    "\n",
    "6. a way to get the length of the vector\n",
    "\n",
    "7. a way to print the vector as a string\n",
    "\n",
    "Additionally, unique to a vector, we need:\n",
    "\n",
    "8. a way to get the size of the vector."
   ]
  },
  {
   "cell_type": "markdown",
   "metadata": {},
   "source": [
    "#### Constructor\n",
    "\n",
    "Let's start with the first one: How do we create a vector?\n",
    "\n",
    "Consider these three lines of code:\n",
    "\n",
    "1. vector()\n",
    "2. vector(\\[1, 2, 3\\])\n",
    "3. vector(1)\n",
    "4. vector(1, 2, 3)\n",
    "\n",
    "What should our vector look like in each of these cases?\n",
    "\n",
    "In the first case, we pass no arguments into the constructor, so we should get an empty vector.\n",
    "\n",
    "In the second case, we pass 1 argument into the constructor. The argument is an iterable, so the vector should contain all the elements of that iterable. In other words, the vector should look like this:\n",
    "\n",
    "$$<1, 2, 3>$$\n",
    "\n",
    "In the third case we pass a single argument into the constructor. The argument is not an iterable, so the vector should just contain the single argument:\n",
    "\n",
    "$$<1>$$\n",
    "\n",
    "Lastly, in the fourth case, we pass three arguments into the vector. The vector should contain all three of these arguments:\n",
    "\n",
    "$$<1, 2, 3>$$.\n",
    "\n",
    "With these three possibilities in mind, let's create our constructor. We'll start with a blank constructor that we'll fill in as we go along:"
   ]
  },
  {
   "cell_type": "code",
   "execution_count": null,
   "metadata": {},
   "outputs": [],
   "source": [
    "def vectorConstructor(self, *args):\n",
    "    #We're going to put the code for the constructor here.\n",
    "    None"
   ]
  },
  {
   "cell_type": "markdown",
   "metadata": {},
   "source": [
    "Now let's consider the first case, where we have no arguments. In this case, the vector should be empty. We should have some sort of iterable structure that stores the elements of the vector, and we should make that structure empty. We can do that like this:"
   ]
  },
  {
   "cell_type": "code",
   "execution_count": null,
   "metadata": {},
   "outputs": [],
   "source": [
    "def vectorConstructure(self, *args):\n",
    "    if len(args) == 0:\n",
    "        self.elems = []"
   ]
  },
  {
   "cell_type": "markdown",
   "metadata": {},
   "source": [
    "self.elems is the list where we'll store the elements of the vector. Since there were no arguments, we create a vector with no elements, so the list is empty.\n",
    "\n",
    "In the second case, we have only one argument. That argument is iterable. How can our constructor check if the argument is iterable? The pythonic way to do this is to assume the argument is iterable, then later make code that takes care of the situation where the argument is not iterable. We can do that using \"try\" and \"except\":"
   ]
  },
  {
   "cell_type": "code",
   "execution_count": null,
   "metadata": {},
   "outputs": [],
   "source": [
    "def vectorConstructor(self, *args):\n",
    "    if len(args) == 0:\n",
    "        self.elems = []\n",
    "    elif len(args) == 1:\n",
    "        try:\n",
    "            self.elems = list(args[0])\n",
    "        except:\n",
    "            #Put code for third case constructor here\n",
    "            None"
   ]
  },
  {
   "cell_type": "markdown",
   "metadata": {},
   "source": [
    "We have to change \"args' to list because it is a tuple, and we want to store our data in a list.\n",
    "\n",
    "Now we consider the case where there's only one argument, and that argument isn't iterable. In that case we want our list to have only that one argument. Currently, \\*args is a tuple containing that one argument, so if we cast that to a list, we have the list we want."
   ]
  },
  {
   "cell_type": "code",
   "execution_count": null,
   "metadata": {},
   "outputs": [],
   "source": [
    "def vectorConstructor(self, *args):\n",
    "    if len(args) == 0:\n",
    "        self.elems = []\n",
    "    elif len(args) == 1:\n",
    "        try:\n",
    "            self.elems = list(args[0])\n",
    "        except:\n",
    "            self.elems = list(args)"
   ]
  },
  {
   "cell_type": "markdown",
   "metadata": {},
   "source": [
    "Lastly, we consider the case where we have more than one argument. In this case, all these arguments belong in the vector. They are already given to us in a tuple, so we can cast this tuple as a list, just like last time."
   ]
  },
  {
   "cell_type": "code",
   "execution_count": null,
   "metadata": {},
   "outputs": [],
   "source": [
    "def vectorConstructor(self, *args):\n",
    "    if len(args) == 0:\n",
    "        self.elems = []\n",
    "    elif len(args) == 1:\n",
    "        try:\n",
    "            self.elems = list(args[0])\n",
    "        except:\n",
    "            self.elems = list(args)\n",
    "    else:\n",
    "        self.elems = list(args)"
   ]
  },
  {
   "cell_type": "markdown",
   "metadata": {},
   "source": [
    "We finally have the constructor we want. We can now add it to the vector class using setattr:"
   ]
  },
  {
   "cell_type": "code",
   "execution_count": null,
   "metadata": {},
   "outputs": [],
   "source": [
    "setattr(vector, '__init__', vectorConstructor)"
   ]
  },
  {
   "cell_type": "markdown",
   "metadata": {},
   "source": [
    "Now let's test our constructor by trying out all 4 of the cases we listed above"
   ]
  },
  {
   "cell_type": "code",
   "execution_count": null,
   "metadata": {},
   "outputs": [],
   "source": [
    "#Testing the constructor with no arguments.\n",
    "a = vector()\n",
    "a.elems"
   ]
  },
  {
   "cell_type": "code",
   "execution_count": null,
   "metadata": {},
   "outputs": [],
   "source": [
    "#Testing the constructor with one iterable argument.\n",
    "b = vector([1, 2, 3])\n",
    "b.elems"
   ]
  },
  {
   "cell_type": "code",
   "execution_count": null,
   "metadata": {},
   "outputs": [],
   "source": [
    "#Testing the constructor with one non-iterable argument.\n",
    "c = vector(1)\n",
    "c.elems"
   ]
  },
  {
   "cell_type": "code",
   "execution_count": null,
   "metadata": {},
   "outputs": [],
   "source": [
    "#Testing the constructor with three arguments.\n",
    "d = vector(1, 2, 3)\n",
    "d.elems"
   ]
  },
  {
   "cell_type": "markdown",
   "metadata": {},
   "source": [
    "Great! In all 4 cases we stored exactly the data we want in self.elems.\n",
    "\n",
    "Now let's create a test vector so we can test the rest of our methods with it."
   ]
  },
  {
   "cell_type": "code",
   "execution_count": null,
   "metadata": {},
   "outputs": [],
   "source": [
    "testVector = vector([1, 2, 3])"
   ]
  },
  {
   "cell_type": "markdown",
   "metadata": {},
   "source": [
    "#### Getter and setter\n",
    "\n",
    "How can we get and set the elements of the vector? We can do this by getting and setting the values in the list where the elements are stored, self.elems."
   ]
  },
  {
   "cell_type": "code",
   "execution_count": null,
   "metadata": {},
   "outputs": [],
   "source": [
    "def vectorGetter(self, key):\n",
    "    return self.elems[key]\n",
    "\n",
    "def vectorSetter(self, key, value):\n",
    "    self.elems[key] = value\n",
    "\n",
    "setattr(vector, '__getitem__', vectorGetter)\n",
    "setattr(vector, '__setitem__', vectorSetter)"
   ]
  },
  {
   "cell_type": "markdown",
   "metadata": {},
   "source": [
    "We put the function we made into the built-in methods \"\\_\\_getitem\\_\\_\" and \"\\_\\_setitem\\_\\_\" because that lets us do indexing (using \\[\\]). Now let's test the getter and setter. Let's try to see the second element in our testVector:"
   ]
  },
  {
   "cell_type": "code",
   "execution_count": null,
   "metadata": {},
   "outputs": [],
   "source": [
    "#Testing the getter.\n",
    "testVector[1]"
   ]
  },
  {
   "cell_type": "markdown",
   "metadata": {},
   "source": [
    "Now let's try to set the second element in our testVector to 3:"
   ]
  },
  {
   "cell_type": "code",
   "execution_count": null,
   "metadata": {},
   "outputs": [],
   "source": [
    "#Testing the setter.\n",
    "testVector[1] = 3\n",
    "testVector.elems"
   ]
  },
  {
   "cell_type": "markdown",
   "metadata": {},
   "source": [
    "#### Append\n",
    "\n",
    "To append to our vector, we append the list containing all the elements of the vector, self.elems"
   ]
  },
  {
   "cell_type": "code",
   "execution_count": null,
   "metadata": {},
   "outputs": [],
   "source": [
    "def vectorAppend(self, value):\n",
    "    self.elems.append(value)\n",
    "    \n",
    "setattr(vector, 'append', vectorAppend)"
   ]
  },
  {
   "cell_type": "markdown",
   "metadata": {},
   "source": [
    "To test this, let's try to append 4 to our testVector"
   ]
  },
  {
   "cell_type": "code",
   "execution_count": null,
   "metadata": {
    "scrolled": true
   },
   "outputs": [],
   "source": [
    "#Testing append.\n",
    "testVector.append(4)\n",
    "testVector.elems"
   ]
  },
  {
   "cell_type": "markdown",
   "metadata": {},
   "source": [
    "#### Insert\n",
    "\n",
    "Just like append, we can insert into self.elems."
   ]
  },
  {
   "cell_type": "code",
   "execution_count": null,
   "metadata": {},
   "outputs": [],
   "source": [
    "def vectorInsert(self, key, value):\n",
    "    self.elems.insert(key, value)\n",
    "    \n",
    "setattr(vector, \"insert\", vectorInsert)"
   ]
  },
  {
   "cell_type": "markdown",
   "metadata": {},
   "source": [
    "We can make a copy of our test vector by doing vector(testVector). This is allowed because we implemented \"\\_\\_getitem\\_\\_\", making our vector class iterable."
   ]
  },
  {
   "cell_type": "code",
   "execution_count": null,
   "metadata": {},
   "outputs": [],
   "source": [
    "testVectorCopy = vector(testVector)"
   ]
  },
  {
   "cell_type": "markdown",
   "metadata": {},
   "source": [
    "We can use this copy to test our insert method"
   ]
  },
  {
   "cell_type": "code",
   "execution_count": null,
   "metadata": {},
   "outputs": [],
   "source": [
    "#Testing insert.\n",
    "testVectorCopy.insert(3, 5)\n",
    "testVectorCopy.elems"
   ]
  },
  {
   "cell_type": "markdown",
   "metadata": {},
   "source": [
    "#### Remove Items\n",
    "\n",
    "We need a way to remove items from our vector. We can make a \"pop\" method that removes elements by index and returns the element removed, a \"remove\" method that removes elements by value, or both. They are both easy to do, since self.elems is a list and already has the pop and remove methods, we can use the list pop and remove in our vector methods."
   ]
  },
  {
   "cell_type": "code",
   "execution_count": null,
   "metadata": {},
   "outputs": [],
   "source": [
    "def vectorPop(self, *args):\n",
    "    return self.elems.pop(*args)\n",
    "\n",
    "def vectorRemove(self, val):\n",
    "    self.elems.remove(val)\n",
    "    \n",
    "setattr(vector, 'pop', vectorPop)\n",
    "setattr(vector, 'remove', vectorRemove)"
   ]
  },
  {
   "cell_type": "markdown",
   "metadata": {},
   "source": [
    "We let vectorPop accept any number of positional arguments because list.pop accepts one or zero arguments. If we accept any number of arguments, then we can pass those arguments on to list.pop. If there's too many, list.pop raises an error for us. Let's use a \"try\" and \"except\" to make sure an error is raised and see what that error is."
   ]
  },
  {
   "cell_type": "code",
   "execution_count": null,
   "metadata": {},
   "outputs": [],
   "source": [
    "try:\n",
    "    testVector.pop(1, 2)\n",
    "except Exception as inst:\n",
    "    print(inst)"
   ]
  },
  {
   "cell_type": "markdown",
   "metadata": {},
   "source": [
    "Perfect! Lets try out our two new methods."
   ]
  },
  {
   "cell_type": "code",
   "execution_count": null,
   "metadata": {},
   "outputs": [],
   "source": [
    "#Testing pop with an argument.\n",
    "testVectorCopy.pop(1)\n",
    "testVectorCopy.elems"
   ]
  },
  {
   "cell_type": "code",
   "execution_count": null,
   "metadata": {},
   "outputs": [],
   "source": [
    "#Testing pop with no arguments.\n",
    "testVectorCopy.pop()\n",
    "testVectorCopy.elems"
   ]
  },
  {
   "cell_type": "code",
   "execution_count": null,
   "metadata": {},
   "outputs": [],
   "source": [
    "#Testing remove.\n",
    "testVectorCopy.remove(3)\n",
    "testVectorCopy.elems"
   ]
  },
  {
   "cell_type": "markdown",
   "metadata": {},
   "source": [
    "#### Length\n",
    "\n",
    "The length of the vector is equal to the length of the list of its elements, so our length method returns the length of self.elems."
   ]
  },
  {
   "cell_type": "code",
   "execution_count": null,
   "metadata": {},
   "outputs": [],
   "source": [
    "def vectorLength(self):\n",
    "    return len(self.elems)\n",
    "\n",
    "setattr(vector, '__len__', vectorLength)"
   ]
  },
  {
   "cell_type": "markdown",
   "metadata": {},
   "source": [
    "We put the function we made into the built-in method \"\\_\\_len\\_\\_\" because that lets us use the \"len\" function. Let's try this function on our testVector."
   ]
  },
  {
   "cell_type": "code",
   "execution_count": null,
   "metadata": {},
   "outputs": [],
   "source": [
    "#Testing len.\n",
    "len(testVector)"
   ]
  },
  {
   "cell_type": "markdown",
   "metadata": {},
   "source": [
    "#### String\n",
    "\n",
    "It is very useful to display our vector as a string. A vector is normally displayed as a comma-separated list of its element surrounded by angle brackets. For example, our test vector should look like this:\n",
    "\n",
    "$$<1, 3, 3, 4>$$\n",
    "\n",
    "How could we do this? Well, the string representation of a list is the same as this, but with square brackets instead of angle brackets. To remove the angle brackets and keep the comma-separated list, we can use slicing:"
   ]
  },
  {
   "cell_type": "code",
   "execution_count": null,
   "metadata": {},
   "outputs": [],
   "source": [
    "def vectorString(self):\n",
    "    commalist = str(self.elems)[1:-1]"
   ]
  },
  {
   "cell_type": "markdown",
   "metadata": {},
   "source": [
    "The slicing removed the first and last characters in the list, which are the square brackets. Now we add the angle brackets:"
   ]
  },
  {
   "cell_type": "code",
   "execution_count": null,
   "metadata": {},
   "outputs": [],
   "source": [
    "def vectorString(self):\n",
    "    commalist = str(self.elems)[1:-1]\n",
    "    return '<' + commalist + '>'\n",
    "\n",
    "setattr(vector, '__str__', vectorString)"
   ]
  },
  {
   "cell_type": "markdown",
   "metadata": {},
   "source": [
    "We put the function we made into the built-in method \"\\_\\_str\\_\\_\" because that lets us use the \"str\"  and \"print\" functions. Let's try our new method on our testVector:"
   ]
  },
  {
   "cell_type": "code",
   "execution_count": null,
   "metadata": {},
   "outputs": [],
   "source": [
    "#Testing string casting.\n",
    "print(testVector)"
   ]
  },
  {
   "cell_type": "markdown",
   "metadata": {},
   "source": [
    "We'll implement the size of the vector after implementing all the other methods, and I'll show you why."
   ]
  },
  {
   "cell_type": "markdown",
   "metadata": {},
   "source": [
    "### How vectors interact with other objects\n",
    "\n",
    "Vectors interact with other object in a few certain ways:\n",
    "\n",
    "1. You can compare two vectors to see if they are the same\n",
    "2. Vectors can be added together\n",
    "3. Vectors can be subtracted from each other\n",
    "4. You can get a dot product of two vectors\n",
    "5. You can multiply and divide vectors by numbers"
   ]
  },
  {
   "cell_type": "markdown",
   "metadata": {},
   "source": [
    "#### Comparing vectors\n",
    "\n",
    "We need to be able to see if two vectors are equal. When all the elements of two vectors are equal, those two vectors are equal. However, before we can check the elements, we have to make sure the vectors have the same length. If they don't have the same length there is no way they can be equal, so we return False. We also have to check to make sure both of the vectors are really vectors, since a vector cannot be equal to something that isn't a vector. Since we are making a method for our vector class, \"self\" will always be a vector, so we only have to check \"other\"."
   ]
  },
  {
   "cell_type": "code",
   "execution_count": null,
   "metadata": {},
   "outputs": [],
   "source": [
    "def vectorEquality(self, other):\n",
    "    if type(other) is vector and len(self) == len(other):\n",
    "        #Put code here that checks that vectors have the same elements\n",
    "        None\n",
    "    else:\n",
    "        return False"
   ]
  },
  {
   "cell_type": "markdown",
   "metadata": {},
   "source": [
    "To check every pair of elements in the two vectors for equality, we can use zip and a list comprehension."
   ]
  },
  {
   "cell_type": "code",
   "execution_count": null,
   "metadata": {},
   "outputs": [],
   "source": [
    "def vectorEquality(self, other):\n",
    "    if type(other) is vector and len(self) == len(other):\n",
    "        [a == b for a, b in zip(self, other)]\n",
    "    else:\n",
    "        return False"
   ]
  },
  {
   "cell_type": "markdown",
   "metadata": {},
   "source": [
    "To check if every element in the list is true, we use the built-in \"all\" function."
   ]
  },
  {
   "cell_type": "code",
   "execution_count": null,
   "metadata": {},
   "outputs": [],
   "source": [
    "def vectorEquality(self, other):\n",
    "    if type(other) is vector and len(self) == len(other):\n",
    "        return all([a == b for a, b in zip(self, other)])\n",
    "    else:\n",
    "        return False\n",
    "    \n",
    "setattr(vector, '__eq__', vectorEquality)"
   ]
  },
  {
   "cell_type": "markdown",
   "metadata": {},
   "source": [
    "We set our new function to the \"\\_\\_eq\\_\\_\" method because that lets us use the equality operator (==). Let's make a copy of testVector to try out our new method."
   ]
  },
  {
   "cell_type": "code",
   "execution_count": null,
   "metadata": {},
   "outputs": [],
   "source": [
    "testVectorCopy = vector(testVector)\n",
    "\n",
    "#Testing equality checker.\n",
    "testVectorCopy == testVector"
   ]
  },
  {
   "cell_type": "markdown",
   "metadata": {},
   "source": [
    "#### Addition\n",
    "\n",
    "Before we can add the vectors together, we need to make sure they are the same length:"
   ]
  },
  {
   "cell_type": "code",
   "execution_count": null,
   "metadata": {},
   "outputs": [],
   "source": [
    "def vectorAddition(self, other):\n",
    "    if len(self) == len(other):\n",
    "        #Put code for vector addition here\n",
    "        None"
   ]
  },
  {
   "cell_type": "markdown",
   "metadata": {},
   "source": [
    "Vector addition is element-wise. The first elements of each vector are added to get the first element of the resulting vector. Same for the second elements, third, etc. To pair up each of the elements, we can zip the two vectors together. Here is what that does:"
   ]
  },
  {
   "cell_type": "code",
   "execution_count": null,
   "metadata": {},
   "outputs": [],
   "source": [
    "testVector2 = vector(1, 2, 3, 4)\n",
    "\n",
    "zipped = zip(testVector, testVector2)\n",
    "list(zipped)"
   ]
  },
  {
   "cell_type": "markdown",
   "metadata": {},
   "source": [
    "Now we have a list of tuples. To get the sum of each tuple, we can do a list comprehension, like this:"
   ]
  },
  {
   "cell_type": "code",
   "execution_count": null,
   "metadata": {},
   "outputs": [],
   "source": [
    "zipped = zip(testVector, testVector2)\n",
    "[a + b for a, b in zipped]"
   ]
  },
  {
   "cell_type": "markdown",
   "metadata": {},
   "source": [
    "We can combine the list comprehension and the zip into one line and put it in our function:"
   ]
  },
  {
   "cell_type": "code",
   "execution_count": null,
   "metadata": {},
   "outputs": [],
   "source": [
    "def vectorAddition(self, other):\n",
    "    if len(self) == len(other):\n",
    "        sums = [a + b for a, b in zip(self, other)]"
   ]
  },
  {
   "cell_type": "markdown",
   "metadata": {},
   "source": [
    "What we need to do now is use this list to create a vector, then return that vector. We have already made a constructor that can turn lists into vectors."
   ]
  },
  {
   "cell_type": "code",
   "execution_count": null,
   "metadata": {},
   "outputs": [],
   "source": [
    "def vectorAddition(self, other):\n",
    "    if len(self) == len(other):\n",
    "        return vector([a + b for a, b in zip(self, other)])"
   ]
  },
  {
   "cell_type": "markdown",
   "metadata": {},
   "source": [
    "Finally, we have to handle the case where the vectors aren't the same length. This can be interpretted as an index error, because the vectors have a different number of indeces."
   ]
  },
  {
   "cell_type": "code",
   "execution_count": null,
   "metadata": {},
   "outputs": [],
   "source": [
    "def vectorAddition(self, other):\n",
    "    if len(self) == len(other):\n",
    "        return vector([a + b for a, b in zip(self, other)])\n",
    "    else:\n",
    "        raise IndexError('Vectors need to be the same length')\n",
    "        \n",
    "setattr(vector, '__add__', vectorAddition)"
   ]
  },
  {
   "cell_type": "markdown",
   "metadata": {},
   "source": [
    "We put the function we made into the built-in method \"\\_\\_add\\_\\_\" because that lets us use the plus sign to add vectors. Now let's try it out."
   ]
  },
  {
   "cell_type": "code",
   "execution_count": null,
   "metadata": {},
   "outputs": [],
   "source": [
    "#Testing vector addition with two vectors.\n",
    "print(testVector + testVector2)"
   ]
  },
  {
   "cell_type": "markdown",
   "metadata": {},
   "source": [
    "One great thing about this function is that because we didn't check to make sure we are adding two vectors together, we can add a vector to a list or any other iterable and get a vector result."
   ]
  },
  {
   "cell_type": "code",
   "execution_count": null,
   "metadata": {},
   "outputs": [],
   "source": [
    "#Testing adding a list to a vector.\n",
    "print(testVector + [1, 2, 3, 4])"
   ]
  },
  {
   "cell_type": "markdown",
   "metadata": {},
   "source": [
    "However, this cannot be done the other way."
   ]
  },
  {
   "cell_type": "code",
   "execution_count": null,
   "metadata": {},
   "outputs": [],
   "source": [
    "try:\n",
    "    print([1, 2, 3, 4] + testVector)\n",
    "except Exception as inst:\n",
    "    print(inst)"
   ]
  },
  {
   "cell_type": "markdown",
   "metadata": {},
   "source": [
    "This is because Python is trying to do \"\\[1, 2, 3, 4\\].\\_\\_add\\_\\_(testVector)\". Because the list class only lets you add lists to other lists, we are getting an error.\n",
    "\n",
    "How do we fix this? We can't change the .\\_\\_add\\_\\_ method of list. Well, there is something that goes on under the hood when you try to add a + b in Python that we can use to solve this problem. Python first tries a.\\_\\_add\\_\\_(b). If that fails, Python tries b.\\_\\_radd\\_\\_(a). This means that if we define the \\_\\_radd\\_\\_ method of our vector class, we can add lists to vectors in any order we want. Since the order of vector addition doesn't matter, the \\_\\_radd\\_\\_ method is the same as the \\_\\_add\\_\\_ method:"
   ]
  },
  {
   "cell_type": "code",
   "execution_count": null,
   "metadata": {},
   "outputs": [],
   "source": [
    "setattr(vector, '__radd__', vectorAddition)"
   ]
  },
  {
   "cell_type": "markdown",
   "metadata": {},
   "source": [
    "Now we can add lists to vectors."
   ]
  },
  {
   "cell_type": "code",
   "execution_count": null,
   "metadata": {},
   "outputs": [],
   "source": [
    "#Testing adding a vector to a list.\n",
    "print([1, 2, 3, 4] + testVector)"
   ]
  },
  {
   "cell_type": "markdown",
   "metadata": {},
   "source": [
    "#### Subtraction\n",
    "\n",
    "Now that we have defined addition, we can use that to make a subtraction function. However, before we can do that, we have to have a function to get the negative of a vector, because subtraction is adding the negative."
   ]
  },
  {
   "cell_type": "code",
   "execution_count": null,
   "metadata": {},
   "outputs": [],
   "source": [
    "def vectorNeg(self):\n",
    "    #Put code for negation function here\n",
    "    None"
   ]
  },
  {
   "cell_type": "markdown",
   "metadata": {},
   "source": [
    "To get the negative of a vector, we negate each element using a list comprehension, cast that list as a vector, then return that vector."
   ]
  },
  {
   "cell_type": "code",
   "execution_count": null,
   "metadata": {},
   "outputs": [],
   "source": [
    "def vectorNeg(self):\n",
    "    return vector([-a for a in self])\n",
    "\n",
    "setattr(vector, '__neg__', vectorNeg)"
   ]
  },
  {
   "cell_type": "markdown",
   "metadata": {},
   "source": [
    "Now we can use this to make our subtraction function."
   ]
  },
  {
   "cell_type": "code",
   "execution_count": null,
   "metadata": {},
   "outputs": [],
   "source": [
    "def vectorSubtract(self, other):\n",
    "    #Put code for vector subtraction here\n",
    "    None"
   ]
  },
  {
   "cell_type": "markdown",
   "metadata": {},
   "source": [
    "The most obvious way to do this is to return self + -other, but let's see what happens when we do this."
   ]
  },
  {
   "cell_type": "code",
   "execution_count": null,
   "metadata": {},
   "outputs": [],
   "source": [
    "def vectorSubtract(self, other):\n",
    "    return self + -other\n",
    "\n",
    "print(vectorSubtract(testVector, testVector2))"
   ]
  },
  {
   "cell_type": "markdown",
   "metadata": {},
   "source": [
    "This works perfectly. It even checks to make sure the vectors are the same length because it uses vector addition, and vector addition checks to make sure the vectors are of the same length. So what's the problem? Let's see what happens if we try to subtract a list:"
   ]
  },
  {
   "cell_type": "code",
   "execution_count": null,
   "metadata": {},
   "outputs": [],
   "source": [
    "try:\n",
    "    print(vectorSubtract(testVector, [1, 2, 3, 4]))\n",
    "except Exception as inst:\n",
    "    print(inst)"
   ]
  },
  {
   "cell_type": "markdown",
   "metadata": {},
   "source": [
    "We can't do it! This is because list is passed into the vectorSubtract function as \"other\", and we try to take the negative of \"other\". Because lists don't have a negative, we can't take the negative of them.\n",
    "\n",
    "How can we avoid this? Well, with a little bit of algebra, you can see that self + -other = -(-self + other). It we plug in a list for other, this expression takes the negative of self, which is a vector, then adds to a list, which is allowed because we can add vectors to list to get vectors. It then takes the negative of the resulting vector. This way, we can subtract lists from vectors."
   ]
  },
  {
   "cell_type": "code",
   "execution_count": null,
   "metadata": {},
   "outputs": [],
   "source": [
    "def vectorSubtract(self, other):\n",
    "    return -(-self + other)\n",
    "\n",
    "print(vectorSubtract(testVector, [1, 2, 3, 4]))"
   ]
  },
  {
   "cell_type": "markdown",
   "metadata": {},
   "source": [
    "This works! Now we can add this to our class as the '\\_\\_sub\\_\\_' method, which lets us use the minus sign."
   ]
  },
  {
   "cell_type": "code",
   "execution_count": null,
   "metadata": {},
   "outputs": [],
   "source": [
    "setattr(vector, '__sub__', vectorSubtract)"
   ]
  },
  {
   "cell_type": "markdown",
   "metadata": {},
   "source": [
    "We already tried it out with a list, so let's try it out with vectors."
   ]
  },
  {
   "cell_type": "code",
   "execution_count": null,
   "metadata": {},
   "outputs": [],
   "source": [
    "#Testing subtracting one vector from another.\n",
    "print(testVector - testVector2)"
   ]
  },
  {
   "cell_type": "markdown",
   "metadata": {},
   "source": [
    "However, just like with vector addition, we cannot subtract vectors from lists unless we define \"\\_\\_rsub\\_\\_\" for vectors. This time, we need to be more careful of the order. vector1.\\_\\_rsub\\_\\_(list1) actually means list1-vector1, so our code has to reflect that."
   ]
  },
  {
   "cell_type": "code",
   "execution_count": null,
   "metadata": {},
   "outputs": [],
   "source": [
    "def vectorRSub(self, other):\n",
    "    return -self + other\n",
    "\n",
    "setattr(vector, '__rsub__', vectorRSub)"
   ]
  },
  {
   "cell_type": "markdown",
   "metadata": {},
   "source": [
    "Now we can subtract vectors from lists."
   ]
  },
  {
   "cell_type": "code",
   "execution_count": null,
   "metadata": {},
   "outputs": [],
   "source": [
    "#Testing subtracting a vector from a list.\n",
    "print([1, 2, 3, 4] - testVector)"
   ]
  },
  {
   "cell_type": "markdown",
   "metadata": {},
   "source": [
    "#### Dot product\n",
    "\n",
    "The dot product is when you take the product of each pair of elements from two vectors, then sum them together. We can once again use zip and a list comprehension to get the products of each pair of elements from the two vectors."
   ]
  },
  {
   "cell_type": "code",
   "execution_count": null,
   "metadata": {},
   "outputs": [],
   "source": [
    "def vectorDot(self, other):\n",
    "    [a * b for a, b in zip(self, other)]"
   ]
  },
  {
   "cell_type": "markdown",
   "metadata": {},
   "source": [
    "Then we return the sum of that list."
   ]
  },
  {
   "cell_type": "code",
   "execution_count": null,
   "metadata": {},
   "outputs": [],
   "source": [
    "def vectorDot(self, other):\n",
    "    return sum([a * b for a, b in zip(self, other)])"
   ]
  },
  {
   "cell_type": "markdown",
   "metadata": {},
   "source": [
    "However, dot products need to use vectors of the same length, so we need to check to make sure we have two arguments of the same length. We'll do this using the same if statement from the vector addition function."
   ]
  },
  {
   "cell_type": "code",
   "execution_count": null,
   "metadata": {},
   "outputs": [],
   "source": [
    "def vectorDot(self, other):\n",
    "    if len(self) == len(other):\n",
    "        return sum([a * b for a, b in zip(self, other)])\n",
    "    else:\n",
    "        raise IndexError('Vectors need to be the same length')"
   ]
  },
  {
   "cell_type": "markdown",
   "metadata": {},
   "source": [
    "Dot products use the asterisk (\\*), so which is also the multiplication operator, so we set this function as the \"\\_\\_mul\\_\\_\" method of our vector class so we can use the multiplication operator."
   ]
  },
  {
   "cell_type": "code",
   "execution_count": null,
   "metadata": {},
   "outputs": [],
   "source": [
    "setattr(vector, '__mul__', vectorDot)"
   ]
  },
  {
   "cell_type": "markdown",
   "metadata": {},
   "source": [
    "Once again, this function allows us to multiply vectors and lists as long as we put the vector first. To enable us to do it the other way, we have to define \"\\_\\_rmul\\_\\_\" for our vector class. Since the order of the dot product doesn't matter, we can use vectorDot for \\_\\_rmul\\_\\_."
   ]
  },
  {
   "cell_type": "code",
   "execution_count": null,
   "metadata": {},
   "outputs": [],
   "source": [
    "setattr(vector, '__rmul__', vectorDot)"
   ]
  },
  {
   "cell_type": "markdown",
   "metadata": {},
   "source": [
    "Now let's try it out."
   ]
  },
  {
   "cell_type": "code",
   "execution_count": null,
   "metadata": {},
   "outputs": [],
   "source": [
    "#Testing dot product of two vectors.\n",
    "testVector * testVector2"
   ]
  },
  {
   "cell_type": "code",
   "execution_count": null,
   "metadata": {},
   "outputs": [],
   "source": [
    "#Testing dot product of a vector and a list.\n",
    "testVector * [1, 2, 3, 4]"
   ]
  },
  {
   "cell_type": "code",
   "execution_count": null,
   "metadata": {},
   "outputs": [],
   "source": [
    "#Testing dot product of a list and a vector.\n",
    "[1, 2, 3, 4] * testVector"
   ]
  },
  {
   "cell_type": "markdown",
   "metadata": {},
   "source": [
    "#### Scalar multiplication and division\n",
    "\n",
    "Vectors can be multiplied by numbers. This type of multiplication is called scalar multiplication. When you multiply a vector by a number, every element of the vector is multiplied by that number.\n",
    "\n",
    "The tricky thing here is that both dot product and scalar multiplication use the \"\\*\" operator. Therefore, they need to be two cases of same function. The most pythonic way to do this is to try dot product first, and if what we are multiplying the vector by happens to not be an iterable, then we do scalar multiplication instead."
   ]
  },
  {
   "cell_type": "code",
   "execution_count": null,
   "metadata": {},
   "outputs": [],
   "source": [
    "def vectorMul(self, other):\n",
    "    try:\n",
    "        if len(self) == len(other):\n",
    "            return sum([a * b for a, b in zip(self, other)])\n",
    "        else:\n",
    "            raise IndexError('Vectors need to be the same length')\n",
    "    except:\n",
    "        #Put code for scalar multiplication here\n",
    "        None"
   ]
  },
  {
   "cell_type": "markdown",
   "metadata": {},
   "source": [
    "Now we can make our scalar multiplication code. We have to multiply every element of the vector by our number. We can do this using a list comprehension, then cast that list as a vector and return it."
   ]
  },
  {
   "cell_type": "code",
   "execution_count": null,
   "metadata": {},
   "outputs": [],
   "source": [
    "def vectorMul(self, other):\n",
    "    try:\n",
    "        if len(self) == len(other):\n",
    "            return sum([a * b for a, b in zip(self, other)])\n",
    "        else:\n",
    "            raise IndexError('Vectors need to be the same length')\n",
    "    except:\n",
    "        return vector([a * other for a in self])\n",
    "    \n",
    "setattr(vector, '__mul__', vectorMul)"
   ]
  },
  {
   "cell_type": "markdown",
   "metadata": {},
   "source": [
    "We also have to redefine \"\\_\\_rmul\\_\\_\", so we can multiply numbers and vectors together by doing number * vector."
   ]
  },
  {
   "cell_type": "code",
   "execution_count": null,
   "metadata": {},
   "outputs": [],
   "source": [
    "setattr(vector, '__rmul__', vectorMul)"
   ]
  },
  {
   "cell_type": "markdown",
   "metadata": {},
   "source": [
    "Let's try it out."
   ]
  },
  {
   "cell_type": "code",
   "execution_count": null,
   "metadata": {
    "scrolled": true
   },
   "outputs": [],
   "source": [
    "#Testing multiplying a vector and a number.\n",
    "print(testVector * 2)"
   ]
  },
  {
   "cell_type": "code",
   "execution_count": null,
   "metadata": {},
   "outputs": [],
   "source": [
    "#Testing multiplying a number and a vector.\n",
    "print(2 * testVector)"
   ]
  },
  {
   "cell_type": "markdown",
   "metadata": {},
   "source": [
    "#### Scalar division\n",
    "\n",
    "Scalar division is when we divide our vector by a number. We implement this the same way as scalar multiplication."
   ]
  },
  {
   "cell_type": "code",
   "execution_count": null,
   "metadata": {},
   "outputs": [],
   "source": [
    "def vectorDivision(self, other):\n",
    "    return vector([a / other for a in self])\n",
    "\n",
    "setattr(vector, '__truediv__', vectorDivision)"
   ]
  },
  {
   "cell_type": "markdown",
   "metadata": {},
   "source": [
    "We set our function to the \"\\_\\_truediv\\_\\_\" method because that lets us use the division operator (\\\\).\n",
    "\n",
    "We don't have to define \"\\_\\_rtruediv\\_\\_\", because we're not going to try to divide a number by a vector.\n",
    "\n",
    "Let's test our new division method."
   ]
  },
  {
   "cell_type": "code",
   "execution_count": null,
   "metadata": {
    "scrolled": true
   },
   "outputs": [],
   "source": [
    "#Testing dividing a vector by a number.\n",
    "print(testVector / 2)"
   ]
  },
  {
   "cell_type": "markdown",
   "metadata": {},
   "source": [
    "### Vector Size\n",
    "\n",
    "This property of vector has to do with their structure. However, I like to implement this after the dot product, because we can use the dot product to make an easy definition for the size of a vector.\n",
    "\n",
    "To get the size of a vector, we square each of its elements, then sum them together. Then we take the square root of that sum. Squaring each element of a vector, then taking the sum of those squares is the same as taking the dot product of the vector with itself. In other words, the size of a vector is the same as the square root of the dot product of the vector with itself."
   ]
  },
  {
   "cell_type": "code",
   "execution_count": null,
   "metadata": {},
   "outputs": [],
   "source": [
    "def vectorSize(self):\n",
    "    return (self * self) ** 0.5"
   ]
  },
  {
   "cell_type": "markdown",
   "metadata": {},
   "source": [
    "(Taking anything to the 0.5 power is the same as taking a square root.)\n",
    "\n",
    "Usually the magnitude of a vector is represented using the absolute value symbols (|), so I'll make sure we can use the built-in function \"abs\" to find the size of the vector. To do this, we have to assign our size function to the \"\\_\\_abs\\_\\_\" method of our vector class."
   ]
  },
  {
   "cell_type": "code",
   "execution_count": null,
   "metadata": {},
   "outputs": [],
   "source": [
    "setattr(vector, '__abs__', vectorSize)"
   ]
  },
  {
   "cell_type": "markdown",
   "metadata": {},
   "source": [
    "Let's try it out."
   ]
  },
  {
   "cell_type": "code",
   "execution_count": null,
   "metadata": {},
   "outputs": [],
   "source": [
    "#Testing our abs method.\n",
    "abs(testVector)"
   ]
  },
  {
   "cell_type": "markdown",
   "metadata": {},
   "source": [
    "## We have finished our vector class!\n",
    "\n",
    "I'll type the full definition below, and change some of the code to be more neat."
   ]
  },
  {
   "cell_type": "code",
   "execution_count": null,
   "metadata": {},
   "outputs": [],
   "source": [
    "class vector:\n",
    "    def __init__(self, *args):\n",
    "        if len(args) == 0:\n",
    "            self.elems = []\n",
    "        elif len(args) == 1:\n",
    "            try:\n",
    "                self.elems = list(args[0])\n",
    "            except:\n",
    "                self.elems = list(args)\n",
    "        else:\n",
    "            self.elems = list(args)\n",
    "            \n",
    "    __getitem__ = lambda self, key: self.elems[key]\n",
    "    \n",
    "    def __setitem__(self, key, value):\n",
    "        self.elems[key] = value\n",
    "        \n",
    "    def append(self, value):\n",
    "        self.elems.append(value)\n",
    "        \n",
    "    __len__ = lambda self: len(self.elems)\n",
    "    \n",
    "    __str__ = lambda self: '<' + str(self.elems)[1:-1] + '>'\n",
    "    \n",
    "    pop = lambda self, *args: self.elems.pop(*args)\n",
    "    \n",
    "    remove = lambda self, val: self.elems.remove(val)\n",
    "    \n",
    "    insert = lambda self, key, val: self.elems.insert(key, val)\n",
    "    \n",
    "    def __add__(self, other):\n",
    "        if len(self) == len(other):\n",
    "            return vector([a + b for a, b in zip(self, other)])\n",
    "        else:\n",
    "            raise IndexError('Vectors need to be the same length')\n",
    "            \n",
    "    __radd__ = __add__\n",
    "    \n",
    "    __neg__ = lambda self: vector([-a for a in self])\n",
    "    \n",
    "    __sub__ = lambda self, other: -(-self + other)\n",
    "    \n",
    "    __rsub__ = lambda self, other: -self + other\n",
    "    \n",
    "    def __mul__(self, other):\n",
    "        try:\n",
    "            if len(self) == len(other):\n",
    "                return sum([a * b for a, b in zip(self, other)])\n",
    "            else:\n",
    "                raise IndexError('Vectors need to be the same length')\n",
    "        except:\n",
    "            return vector([a * other for a in self])\n",
    "        \n",
    "    __rmul__ = __mul__\n",
    "    \n",
    "    __truediv__ = lambda self, other: vector([a / other for a in self])\n",
    "            \n",
    "    def __eq__(self, other):\n",
    "        if type(other) is vector and len(self) == len(other):\n",
    "            return all([a == b for a, b in zip(self, other)])\n",
    "        else:\n",
    "            return False\n",
    "            \n",
    "    __abs__ = lambda self: (self * self) ** 0.5"
   ]
  },
  {
   "cell_type": "markdown",
   "metadata": {},
   "source": [
    "I'll also put all the test cases below."
   ]
  },
  {
   "cell_type": "code",
   "execution_count": null,
   "metadata": {},
   "outputs": [],
   "source": [
    "#Testing the constructor with no arguments.\n",
    "a = vector()\n",
    "assert(a.elems == [])"
   ]
  },
  {
   "cell_type": "code",
   "execution_count": null,
   "metadata": {},
   "outputs": [],
   "source": [
    "#Testing the constructor with one iterable argument.\n",
    "b = vector([1, 2, 3])\n",
    "assert(b.elems == [1, 2, 3])"
   ]
  },
  {
   "cell_type": "code",
   "execution_count": null,
   "metadata": {},
   "outputs": [],
   "source": [
    "#Testing the constructor with one non-iterable argument.\n",
    "c = vector(1)\n",
    "assert(c.elems == [1])"
   ]
  },
  {
   "cell_type": "code",
   "execution_count": null,
   "metadata": {},
   "outputs": [],
   "source": [
    "#Testing the constructor with three arguments.\n",
    "d = vector(1, 2, 3)\n",
    "assert(d.elems == [1, 2, 3])"
   ]
  },
  {
   "cell_type": "code",
   "execution_count": null,
   "metadata": {},
   "outputs": [],
   "source": [
    "testVector = vector([1, 2, 3])\n",
    "\n",
    "#Testing getitem.\n",
    "assert(testVector[1] == 2)"
   ]
  },
  {
   "cell_type": "code",
   "execution_count": null,
   "metadata": {},
   "outputs": [],
   "source": [
    "#Testing setitem.\n",
    "testVector[1] = 3\n",
    "assert(testVector[1] == 3)"
   ]
  },
  {
   "cell_type": "code",
   "execution_count": null,
   "metadata": {},
   "outputs": [],
   "source": [
    "#Testing append.\n",
    "testVector.append(4)\n",
    "assert(testVector[3] == 4)"
   ]
  },
  {
   "cell_type": "code",
   "execution_count": null,
   "metadata": {},
   "outputs": [],
   "source": [
    "testVectorCopy = vector(testVector)\n",
    "\n",
    "#Testing insert.\n",
    "testVectorCopy.insert(3, 3)\n",
    "assert(testVectorCopy[3] == 3)"
   ]
  },
  {
   "cell_type": "code",
   "execution_count": null,
   "metadata": {},
   "outputs": [],
   "source": [
    "#Testing pop with an argument.\n",
    "assert(testVectorCopy.pop(1) == 3)"
   ]
  },
  {
   "cell_type": "code",
   "execution_count": null,
   "metadata": {},
   "outputs": [],
   "source": [
    "#Testing pop without an argument.\n",
    "assert(testVectorCopy.pop() == 4)"
   ]
  },
  {
   "cell_type": "code",
   "execution_count": null,
   "metadata": {},
   "outputs": [],
   "source": [
    "#Testing remove.\n",
    "testVectorCopy.remove(3)\n",
    "assert(testVectorCopy == vector(1, 3))"
   ]
  },
  {
   "cell_type": "code",
   "execution_count": null,
   "metadata": {},
   "outputs": [],
   "source": [
    "#Testing length.\n",
    "assert(len(testVector) == 4)"
   ]
  },
  {
   "cell_type": "code",
   "execution_count": null,
   "metadata": {},
   "outputs": [],
   "source": [
    "#Testing string.\n",
    "assert(str(testVector) == \"<1, 3, 3, 4>\")"
   ]
  },
  {
   "cell_type": "code",
   "execution_count": null,
   "metadata": {},
   "outputs": [],
   "source": [
    "#Testing equality comparison.\n",
    "assert(testVector == vector(1, 3, 3, 4))"
   ]
  },
  {
   "cell_type": "code",
   "execution_count": null,
   "metadata": {},
   "outputs": [],
   "source": [
    "#Testing that a vector is not equal to a non-vector.\n",
    "assert(testVector != [1, 3, 3, 4])"
   ]
  },
  {
   "cell_type": "code",
   "execution_count": null,
   "metadata": {},
   "outputs": [],
   "source": [
    "#Testing that two vectors of different lengths are not equal.\n",
    "assert(testVector != vector(1, 3, 3, 4, 5))"
   ]
  },
  {
   "cell_type": "code",
   "execution_count": null,
   "metadata": {},
   "outputs": [],
   "source": [
    "#Testing that two unequal vectors are unequal.\n",
    "assert(testVector != vector(range(1, 5)))"
   ]
  },
  {
   "cell_type": "code",
   "execution_count": null,
   "metadata": {},
   "outputs": [],
   "source": [
    "testVector2 = vector(range(1, 5))\n",
    "\n",
    "#Testing addition of two vectors.\n",
    "assert(testVector + testVector2 == vector(2, 5, 6, 8))"
   ]
  },
  {
   "cell_type": "code",
   "execution_count": null,
   "metadata": {},
   "outputs": [],
   "source": [
    "#Testing addition of an iterable to a vector.\n",
    "assert(testVector + range(1, 5) == vector(2, 5, 6, 8))"
   ]
  },
  {
   "cell_type": "code",
   "execution_count": null,
   "metadata": {},
   "outputs": [],
   "source": [
    "#Testing addition of a vector to an iterable.\n",
    "assert(range(1, 5) + testVector == vector(2, 5, 6, 8))"
   ]
  },
  {
   "cell_type": "code",
   "execution_count": null,
   "metadata": {},
   "outputs": [],
   "source": [
    "#Testing error raised by addition of vectors of different lengths.\n",
    "try:\n",
    "    vector() + vector(1)\n",
    "except Exception as inst:\n",
    "    assert(type(inst) is IndexError)"
   ]
  },
  {
   "cell_type": "code",
   "execution_count": null,
   "metadata": {},
   "outputs": [],
   "source": [
    "#Testing subtraction of a vector from a vector.\n",
    "assert(testVector - testVector2 == vector(0, 1, 0, 0))"
   ]
  },
  {
   "cell_type": "code",
   "execution_count": null,
   "metadata": {},
   "outputs": [],
   "source": [
    "#Testing subtraction of an iterable from a vector.\n",
    "assert(testVector - range(1, 5) == vector(0, 1, 0, 0))"
   ]
  },
  {
   "cell_type": "code",
   "execution_count": null,
   "metadata": {},
   "outputs": [],
   "source": [
    "#Testing subtraction of a vector from an iterable.\n",
    "assert(range(1, 5) - testVector == vector(0, -1, 0, 0))"
   ]
  },
  {
   "cell_type": "code",
   "execution_count": null,
   "metadata": {},
   "outputs": [],
   "source": [
    "#Testing vector dot products.\n",
    "assert(testVector * testVector2 == 32)"
   ]
  },
  {
   "cell_type": "code",
   "execution_count": null,
   "metadata": {},
   "outputs": [],
   "source": [
    "#Testing dot product of vector and iterable.\n",
    "assert(testVector * range(1, 5) == 32)"
   ]
  },
  {
   "cell_type": "code",
   "execution_count": null,
   "metadata": {},
   "outputs": [],
   "source": [
    "#Testing dot product of iterable and vector.\n",
    "assert(range(1, 5) * testVector == 32)"
   ]
  },
  {
   "cell_type": "code",
   "execution_count": null,
   "metadata": {},
   "outputs": [],
   "source": [
    "#Testing error raised by dot product of vectors of different lengths.\n",
    "try:\n",
    "    vector() * vector(1)\n",
    "except Exception as inst:\n",
    "    assert(type(inst) is IndexError)"
   ]
  },
  {
   "cell_type": "code",
   "execution_count": null,
   "metadata": {},
   "outputs": [],
   "source": [
    "#Testing multiplication of vector and number.\n",
    "assert(testVector * 2 == vector(2, 6, 6, 8))"
   ]
  },
  {
   "cell_type": "code",
   "execution_count": null,
   "metadata": {},
   "outputs": [],
   "source": [
    "#Testing multiplication of number and vector.\n",
    "assert(2 * testVector == vector(2, 6, 6, 8))"
   ]
  },
  {
   "cell_type": "code",
   "execution_count": null,
   "metadata": {},
   "outputs": [],
   "source": [
    "#Testing division of vector by number.\n",
    "assert(testVector / 2 == vector(0.5, 1.5, 1.5, 2))"
   ]
  },
  {
   "cell_type": "code",
   "execution_count": null,
   "metadata": {},
   "outputs": [],
   "source": [
    "#Testing vector size.\n",
    "assert(abs(abs(vector(3, 4)) - 5) < 0.001)"
   ]
  },
  {
   "cell_type": "markdown",
   "metadata": {},
   "source": [
    "todo:\n",
    "* add equality (DONE)\n",
    "* add scalar multiplication (DONE)\n",
    "* add scalar division (DONE)\n",
    "* Remove lambdas from code we're making (DONE)\n",
    "* Replace Nones with comments (DONE)\n",
    "* Put comments above each test case (DONE)\n",
    "* Put all the test cases at the bottom. (DONE)\n",
    "* Split cells with different headings. (DONE)\n",
    "* Split test cases at bottom. (DONE)\n",
    "* Add test cases for errors. (DONE)\n",
    "* Test and proofread everything. (DONE)\n",
    "* Draft 1 complete! (DONE)"
   ]
  },
  {
   "cell_type": "code",
   "execution_count": null,
   "metadata": {},
   "outputs": [],
   "source": []
  }
 ],
 "metadata": {
  "kernelspec": {
   "display_name": "Python 3",
   "language": "python",
   "name": "python3"
  },
  "language_info": {
   "codemirror_mode": {
    "name": "ipython",
    "version": 3
   },
   "file_extension": ".py",
   "mimetype": "text/x-python",
   "name": "python",
   "nbconvert_exporter": "python",
   "pygments_lexer": "ipython3",
   "version": "3.7.2"
  }
 },
 "nbformat": 4,
 "nbformat_minor": 2
}
